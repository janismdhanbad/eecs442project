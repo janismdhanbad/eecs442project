{
 "cells": [
  {
   "cell_type": "code",
   "execution_count": 34,
   "metadata": {},
   "outputs": [],
   "source": [
    "import pandas as pd\n",
    "import numpy as np\n",
    "import glob\n",
    "import os\n",
    "import re\n",
    "from sklearn.preprocessing import LabelEncoder\n",
    "\n",
    "le = LabelEncoder()\n",
    "\n",
    "data = pd.read_csv(\"data/traffic_sign_data/traffic_sign_recog_final.csv\")"
   ]
  },
  {
   "cell_type": "code",
   "execution_count": 35,
   "metadata": {},
   "outputs": [],
   "source": [
    "classes_to_take = [\"pedestrianCrossing\", \"stop\", \"signalAhead\",\"yield\", \"addedLane\", \"school\",\"speedLimit35\",\"laneEnds\",\n",
    " \"speedLimit25\",\"turnRight\", \"speedLimit45\",\"speedLimit30\",\"speedLimitUrdbl\",\"noLeftTurn\",\n",
    " \"schoolSpeedLimit25\"]\n",
    "\n",
    "data = data[data[\"class_name\"].isin( classes_to_take)]"
   ]
  },
  {
   "cell_type": "code",
   "execution_count": 36,
   "metadata": {},
   "outputs": [
    {
     "data": {
      "text/plain": [
       "pedestrianCrossing    6276\n",
       "stop                  1914\n",
       "signalAhead            999\n",
       "yield                  676\n",
       "addedLane              667\n",
       "school                 637\n",
       "speedLimit35           538\n",
       "laneEnds               483\n",
       "speedLimit25           349\n",
       "turnRight              205\n",
       "speedLimit45           141\n",
       "speedLimit30           140\n",
       "speedLimitUrdbl        132\n",
       "noLeftTurn             108\n",
       "schoolSpeedLimit25     105\n",
       "Name: class_name, dtype: int64"
      ]
     },
     "execution_count": 36,
     "metadata": {},
     "output_type": "execute_result"
    }
   ],
   "source": [
    "data[\"class_name\"].value_counts()"
   ]
  },
  {
   "cell_type": "code",
   "execution_count": 37,
   "metadata": {},
   "outputs": [],
   "source": [
    "import shutil"
   ]
  },
  {
   "cell_type": "code",
   "execution_count": 38,
   "metadata": {},
   "outputs": [],
   "source": [
    "shutil.rmtree(\"data/traffic_sign_data/LISA/labels/\")\n",
    "os.mkdir(\"data/traffic_sign_data/LISA/labels\")"
   ]
  },
  {
   "cell_type": "code",
   "execution_count": 13,
   "metadata": {},
   "outputs": [],
   "source": [
    "# os.mkdir(\"RTSD\")\n",
    "# os.mkdir(\"LISA\")\n",
    "# os.mkdir(\"RTSD/labels\")\n",
    "# os.mkdir(\"LISA/labels\")\n",
    "# os.mkdir(\"RTSD/images\")\n",
    "# os.mkdir(\"LISA/images\")"
   ]
  },
  {
   "cell_type": "code",
   "execution_count": 39,
   "metadata": {},
   "outputs": [],
   "source": [
    "f_names = data['filename'].unique()\n",
    "\n",
    "data[\"class_ids\"] = le.fit_transform(data[\"class_name\"].values)\n",
    "\n",
    "unq_class_ids = data[[\"class_ids\", \"class_name\"]].drop_duplicates().sort_values(\"class_ids\")\n",
    "unq_class_ids.index = range(unq_class_ids.shape[0])"
   ]
  },
  {
   "cell_type": "code",
   "execution_count": 40,
   "metadata": {},
   "outputs": [
    {
     "data": {
      "text/html": [
       "<div>\n",
       "<style scoped>\n",
       "    .dataframe tbody tr th:only-of-type {\n",
       "        vertical-align: middle;\n",
       "    }\n",
       "\n",
       "    .dataframe tbody tr th {\n",
       "        vertical-align: top;\n",
       "    }\n",
       "\n",
       "    .dataframe thead th {\n",
       "        text-align: right;\n",
       "    }\n",
       "</style>\n",
       "<table border=\"1\" class=\"dataframe\">\n",
       "  <thead>\n",
       "    <tr style=\"text-align: right;\">\n",
       "      <th></th>\n",
       "      <th>class_ids</th>\n",
       "      <th>class_name</th>\n",
       "    </tr>\n",
       "  </thead>\n",
       "  <tbody>\n",
       "    <tr>\n",
       "      <th>0</th>\n",
       "      <td>0</td>\n",
       "      <td>addedLane</td>\n",
       "    </tr>\n",
       "    <tr>\n",
       "      <th>1</th>\n",
       "      <td>1</td>\n",
       "      <td>laneEnds</td>\n",
       "    </tr>\n",
       "    <tr>\n",
       "      <th>2</th>\n",
       "      <td>2</td>\n",
       "      <td>noLeftTurn</td>\n",
       "    </tr>\n",
       "    <tr>\n",
       "      <th>3</th>\n",
       "      <td>3</td>\n",
       "      <td>pedestrianCrossing</td>\n",
       "    </tr>\n",
       "    <tr>\n",
       "      <th>4</th>\n",
       "      <td>4</td>\n",
       "      <td>school</td>\n",
       "    </tr>\n",
       "    <tr>\n",
       "      <th>5</th>\n",
       "      <td>5</td>\n",
       "      <td>schoolSpeedLimit25</td>\n",
       "    </tr>\n",
       "    <tr>\n",
       "      <th>6</th>\n",
       "      <td>6</td>\n",
       "      <td>signalAhead</td>\n",
       "    </tr>\n",
       "    <tr>\n",
       "      <th>7</th>\n",
       "      <td>7</td>\n",
       "      <td>speedLimit25</td>\n",
       "    </tr>\n",
       "    <tr>\n",
       "      <th>8</th>\n",
       "      <td>8</td>\n",
       "      <td>speedLimit30</td>\n",
       "    </tr>\n",
       "    <tr>\n",
       "      <th>9</th>\n",
       "      <td>9</td>\n",
       "      <td>speedLimit35</td>\n",
       "    </tr>\n",
       "    <tr>\n",
       "      <th>10</th>\n",
       "      <td>10</td>\n",
       "      <td>speedLimit45</td>\n",
       "    </tr>\n",
       "    <tr>\n",
       "      <th>11</th>\n",
       "      <td>11</td>\n",
       "      <td>speedLimitUrdbl</td>\n",
       "    </tr>\n",
       "    <tr>\n",
       "      <th>12</th>\n",
       "      <td>12</td>\n",
       "      <td>stop</td>\n",
       "    </tr>\n",
       "    <tr>\n",
       "      <th>13</th>\n",
       "      <td>13</td>\n",
       "      <td>turnRight</td>\n",
       "    </tr>\n",
       "    <tr>\n",
       "      <th>14</th>\n",
       "      <td>14</td>\n",
       "      <td>yield</td>\n",
       "    </tr>\n",
       "  </tbody>\n",
       "</table>\n",
       "</div>"
      ],
      "text/plain": [
       "    class_ids          class_name\n",
       "0           0           addedLane\n",
       "1           1            laneEnds\n",
       "2           2          noLeftTurn\n",
       "3           3  pedestrianCrossing\n",
       "4           4              school\n",
       "5           5  schoolSpeedLimit25\n",
       "6           6         signalAhead\n",
       "7           7        speedLimit25\n",
       "8           8        speedLimit30\n",
       "9           9        speedLimit35\n",
       "10         10        speedLimit45\n",
       "11         11     speedLimitUrdbl\n",
       "12         12                stop\n",
       "13         13           turnRight\n",
       "14         14               yield"
      ]
     },
     "execution_count": 40,
     "metadata": {},
     "output_type": "execute_result"
    }
   ],
   "source": [
    "unq_class_ids"
   ]
  },
  {
   "cell_type": "code",
   "execution_count": 15,
   "metadata": {},
   "outputs": [
    {
     "data": {
      "text/plain": [
       "array(['addedLane', 'laneEnds', 'noLeftTurn', 'pedestrianCrossing',\n",
       "       'school', 'schoolSpeedLimit25', 'signalAhead', 'speedLimit25',\n",
       "       'speedLimit30', 'speedLimit35', 'speedLimit45', 'speedLimitUrdbl',\n",
       "       'stop', 'turnRight', 'yield'], dtype=object)"
      ]
     },
     "execution_count": 15,
     "metadata": {},
     "output_type": "execute_result"
    }
   ],
   "source": [
    "unq_class_ids[\"class_name\"].values"
   ]
  },
  {
   "cell_type": "code",
   "execution_count": 41,
   "metadata": {},
   "outputs": [],
   "source": [
    "for f in f_names:\n",
    "    data_f = data[data[\"filename\"] == f]\n",
    "    write_to_file = []\n",
    "    for r in data_f.iterrows():\n",
    "        label_idx = r[1][\"class_ids\"]\n",
    "        xmin = r[1][\"xmin\"]\n",
    "        xmax = r[1][\"xmax\"]\n",
    "        ymin = r[1][\"ymin\"]\n",
    "        ymax = r[1][\"ymax\"]\n",
    "        img_height = r[1][\"height\"]\n",
    "        img_width = r[1][\"width\"]\n",
    "        x_center = (xmin + xmax)/2\n",
    "        x_center = x_center/img_width\n",
    "        y_center = (ymin + ymax)/2\n",
    "        y_center = y_center/img_height\n",
    "        height = ymax - ymin\n",
    "        height = height/img_height\n",
    "        width = xmax - xmin\n",
    "        width = width/img_width\n",
    "        str_to_append = str(label_idx)+ \" \" + str(x_center) + \" \" + str(y_center) + \" \" + str(width) + \" \" + str(height) \n",
    "        write_to_file.append(str_to_append)\n",
    "    if r[1][\"dataset\"] == \"lisa\":\n",
    "        with open(\"data/traffic_sign_data/LISA/labels/\"+r[1][\"filename\"].replace(\".png\", \".txt\"), \"w\") as f:\n",
    "            f.write(\"\\n\".join(write_to_file))\n",
    "        f.close()\n",
    "    elif r[1][\"dataset\"] == \"rtsd\":\n",
    "        with open(\"data/traffic_sign_data/RTSD/labels/\"+r[1][\"filename\"].replace(\".jpg\", \".txt\"), \"w\") as f:\n",
    "            f.write(\"\\n\".join(write_to_file))\n",
    "        f.close()"
   ]
  },
  {
   "cell_type": "code",
   "execution_count": 26,
   "metadata": {},
   "outputs": [],
   "source": [
    "with open(\"data/traffic_sign_data/LISA/labels/stop_1330545910.avi_image0.txt\") as f:\n",
    "    label = f.read()"
   ]
  },
  {
   "cell_type": "code",
   "execution_count": 27,
   "metadata": {},
   "outputs": [
    {
     "name": "stdout",
     "output_type": "stream",
     "text": [
      "15 0.8681640625 0.2509578544061303 0.052734375 0.10344827586206896\n",
      "14 0.42138671875 0.39272030651340994 0.0126953125 0.03065134099616858\n"
     ]
    }
   ],
   "source": [
    "print(label)"
   ]
  },
  {
   "cell_type": "markdown",
   "metadata": {},
   "source": [
    "## Training val dist LISA "
   ]
  },
  {
   "cell_type": "code",
   "execution_count": 17,
   "metadata": {},
   "outputs": [],
   "source": [
    "import pandas as pd\n",
    "import numpy as np\n",
    "import glob\n",
    "import os\n",
    "import re\n",
    "from sklearn.preprocessing import LabelEncoder\n",
    "\n",
    "le = LabelEncoder()\n",
    "from sklearn.model_selection import train_test_split\n",
    "\n",
    "data = pd.read_csv(\"data/traffic_sign_data/traffic_sign_recog_final.csv\")"
   ]
  },
  {
   "cell_type": "code",
   "execution_count": 18,
   "metadata": {},
   "outputs": [],
   "source": [
    "classes_to_take = [\"pedestrianCrossing\", \"stop\", \"signalAhead\",\"yield\", \"addedLane\", \"school\",\"speedLimit35\",\"laneEnds\",\n",
    " \"speedLimit25\",\"turnRight\", \"speedLimit45\",\"speedLimit30\",\"speedLimitUrdbl\",\"noLeftTurn\",\n",
    " \"schoolSpeedLimit25\"]\n",
    "\n",
    "data = data[data[\"class_name\"].isin( classes_to_take)]"
   ]
  },
  {
   "cell_type": "code",
   "execution_count": 19,
   "metadata": {},
   "outputs": [],
   "source": [
    "f_names = data['filename'].unique()\n",
    "\n",
    "data[\"class_ids\"] = le.fit_transform(data[\"class_name\"].values)\n",
    "\n",
    "unq_class_ids = data[[\"class_ids\", \"class_name\"]].drop_duplicates().sort_values(\"class_ids\")\n",
    "unq_class_ids.index = range(unq_class_ids.shape[0])"
   ]
  },
  {
   "cell_type": "code",
   "execution_count": 20,
   "metadata": {},
   "outputs": [],
   "source": [
    "data_lisa = data[data[\"dataset\"] == \"lisa\"]"
   ]
  },
  {
   "cell_type": "code",
   "execution_count": 21,
   "metadata": {},
   "outputs": [],
   "source": [
    "X_train, X_test, y_train, y_test = train_test_split(data_lisa, data_lisa[[\"class_ids\"]], test_size = .15, stratify=data_lisa[[\"class_ids\"]])"
   ]
  },
  {
   "cell_type": "code",
   "execution_count": 43,
   "metadata": {},
   "outputs": [
    {
     "data": {
      "text/plain": [
       "12    1548\n",
       "3      922\n",
       "6      786\n",
       "9      457\n",
       "7      297\n",
       "0      250\n",
       "14     201\n",
       "1      178\n",
       "10     120\n",
       "8      119\n",
       "4      113\n",
       "11     112\n",
       "5       89\n",
       "13      78\n",
       "2       40\n",
       "Name: class_ids, dtype: int64"
      ]
     },
     "execution_count": 43,
     "metadata": {},
     "output_type": "execute_result"
    }
   ],
   "source": [
    "X_train[\"class_ids\"].value_counts()"
   ]
  },
  {
   "cell_type": "code",
   "execution_count": 42,
   "metadata": {},
   "outputs": [
    {
     "data": {
      "text/plain": [
       "12    273\n",
       "3     163\n",
       "6     139\n",
       "9      81\n",
       "7      52\n",
       "0      44\n",
       "14     35\n",
       "1      32\n",
       "10     21\n",
       "8      21\n",
       "11     20\n",
       "4      20\n",
       "5      16\n",
       "13     14\n",
       "2       7\n",
       "Name: class_ids, dtype: int64"
      ]
     },
     "execution_count": 42,
     "metadata": {},
     "output_type": "execute_result"
    }
   ],
   "source": [
    "X_test[\"class_ids\"].value_counts()"
   ]
  },
  {
   "cell_type": "code",
   "execution_count": 24,
   "metadata": {},
   "outputs": [],
   "source": [
    "train_names = [\"data/traffic_sign_data/LISA/images/\" +f for f in X_train[\"filename\"].unique()]"
   ]
  },
  {
   "cell_type": "code",
   "execution_count": 25,
   "metadata": {},
   "outputs": [
    {
     "data": {
      "text/plain": [
       "1142.5"
      ]
     },
     "execution_count": 25,
     "metadata": {},
     "output_type": "execute_result"
    }
   ],
   "source": [
    "len(train_names)/4"
   ]
  },
  {
   "cell_type": "code",
   "execution_count": 26,
   "metadata": {},
   "outputs": [],
   "source": [
    "val_names = [\"data/traffic_sign_data/LISA/images/\"+f for f in X_test[\"filename\"].unique()]"
   ]
  },
  {
   "cell_type": "code",
   "execution_count": 27,
   "metadata": {},
   "outputs": [
    {
     "data": {
      "text/plain": [
       "229.5"
      ]
     },
     "execution_count": 27,
     "metadata": {},
     "output_type": "execute_result"
    }
   ],
   "source": [
    "len(val_names)/4"
   ]
  },
  {
   "cell_type": "code",
   "execution_count": 28,
   "metadata": {},
   "outputs": [],
   "source": [
    "with open(\"data/traffic_sign_data/train_lisa.txt\", 'w') as f:\n",
    "    f.write(\"\\n\".join(train_names))"
   ]
  },
  {
   "cell_type": "code",
   "execution_count": 29,
   "metadata": {},
   "outputs": [],
   "source": [
    "with open(\"data/traffic_sign_data/valid_lisa.txt\", 'w') as f:\n",
    "    f.write(\"\\n\".join(val_names))"
   ]
  },
  {
   "cell_type": "code",
   "execution_count": null,
   "metadata": {},
   "outputs": [],
   "source": []
  }
 ],
 "metadata": {
  "kernelspec": {
   "display_name": "pytorch_1_7",
   "language": "python",
   "name": "pytorch_1_7"
  },
  "language_info": {
   "codemirror_mode": {
    "name": "ipython",
    "version": 3
   },
   "file_extension": ".py",
   "mimetype": "text/x-python",
   "name": "python",
   "nbconvert_exporter": "python",
   "pygments_lexer": "ipython3",
   "version": "3.6.12"
  }
 },
 "nbformat": 4,
 "nbformat_minor": 4
}
